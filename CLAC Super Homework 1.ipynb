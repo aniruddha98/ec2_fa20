{
 "cells": [
  {
   "cell_type": "markdown",
   "metadata": {},
   "source": [
    "# Cloud at California Regular Homework 1!\n",
    "You thought that this would never release huh? Honestly though, same, but it's out now!!! In this homework, we'll set up your AWS account, test your boto3 connection, spin up EC2 instances and S3 buckets, and walk through the serverless stack. Seems like a lot? It is LOL this is three weeks worth of content. The due date isn't set in stone yet mostly because this is a thicc homework but I will be checking in every now and then to see how progress is going.\n",
    "\n",
    "With that said, let's begin!"
   ]
  },
  {
   "cell_type": "markdown",
   "metadata": {},
   "source": [
    "In this cell we will be importing all of our required modules. If this cell does not work, that means that something in your setup went wrong. Try to fix it, and if you can't, reach out to your fellow EC2 members or to me (Ervin) and we can work it out from there."
   ]
  },
  {
   "cell_type": "code",
   "execution_count": 1,
   "metadata": {},
   "outputs": [],
   "source": [
    "import os\n",
    "import csv\n",
    "import boto3\n",
    "import otter  # This is a new one! Run `pip install otter-grader`. This is our auto-grader.\n",
    "from pathlib import Path\n",
    "\n",
    "home = str(Path.home())\n",
    "grader = otter.Notebook()"
   ]
  },
  {
   "cell_type": "code",
   "execution_count": 2,
   "metadata": {},
   "outputs": [
    {
     "data": {
      "text/plain": [
       "7"
      ]
     },
     "execution_count": 2,
     "metadata": {},
     "output_type": "execute_result"
    }
   ],
   "source": [
    "2 + 5"
   ]
  },
  {
   "cell_type": "markdown",
   "metadata": {},
   "source": [
    "## Part 1: AWS Setup"
   ]
  },
  {
   "cell_type": "markdown",
   "metadata": {},
   "source": [
    "Now let's go ahead and finally set up your AWS accounts. You do _not_ need to understand the following code cell though you are more than welcome to try and dissect it. For this code cell, please replace the `...` bounded to the variable `credential_file_name` with the name of your credential file. Also move this credential file to the current directory of this notebook. After you replace this line, just run the cell and your AWS credentials should hopefully be set up!\n",
    "\n",
    "*Note*: If you received a permission error from this cell, that's because you need admin permissions to change this directory. In order to do that, please reach out to me and we'll set up your AWS credentials in a different way. This shouldn't happen but if it does, we have a way to manually change this ourselves."
   ]
  },
  {
   "cell_type": "code",
   "execution_count": null,
   "metadata": {},
   "outputs": [],
   "source": [
    "credential_file_name = ...  # Replace this line!\n",
    "\n",
    "with open(credential_file_name, 'r') as csv_file:\n",
    "    csv_reader = csv.reader(csv_file, delimiter=',')\n",
    "    csv_data = [row for row in csv_reader]\n",
    "columns, data = csv_data\n",
    "csv_dict = (dict(zip(columns, data)))\n",
    "if not os.path.exists(home + \"/.aws/\"):\n",
    "    os.mkdir(home + \"/.aws/\")\n",
    "    print(\"INFO: Created directory `~/.aws`\")\n",
    "if os.path.exists(home + \"/.aws/credentials\"):\n",
    "    os.remove(home + \"/.aws/credentials\")\n",
    "    print(\"INFO: Deleted existing file `~/.aws/credentials`\")\n",
    "if os.path.exists(home + \"/.aws/config\"):\n",
    "    os.remove(home + \"/.aws/config\")\n",
    "    print(\"INFO: Deleted existing file `~/.aws/config`\")\n",
    "with open(home + \"/.aws/credentials\", \"w+\") as cred_file:\n",
    "    cred_file.write(f\"[default]\"\n",
    "                    f\"\\naws_access_key_id = {csv_dict['Access key ID']}\"\n",
    "                    f\"\\naws_secret_access_key = {csv_dict['Secret access key']}\\n\"\n",
    "                    \"AWS_REGION=us-west-1\")\n",
    "print(\"INFO: Created new file `~/.aws/credentials/`\")\n",
    "with open(home + \"/.aws/config\", \"w+\") as cred_file:\n",
    "    cred_file.write(f\"[default]\"\n",
    "                    f\"\\nregion = us-west-1\\n\")\n",
    "print(\"INFO: Created new file `~/.aws/config/`\")\n",
    "print(\"Done!\")"
   ]
  },
  {
   "cell_type": "markdown",
   "metadata": {},
   "source": [
    "To verify that you set up AWS correctly, run the following cell to check your configuration! The cell should pass."
   ]
  },
  {
   "cell_type": "code",
   "execution_count": 3,
   "metadata": {},
   "outputs": [
    {
     "data": {
      "text/html": [
       "\n",
       "    \n",
       "    \n",
       "        <p>All tests passed!</p>\n",
       "    \n",
       "    "
      ],
      "text/plain": [
       "\n",
       "    All tests passed!\n",
       "    "
      ]
     },
     "execution_count": 3,
     "metadata": {},
     "output_type": "execute_result"
    }
   ],
   "source": [
    "grader.check(\"q1\")"
   ]
  },
  {
   "cell_type": "markdown",
   "metadata": {},
   "source": [
    "## Part 2: Elastic Cloud Compute (EC2)"
   ]
  },
  {
   "cell_type": "markdown",
   "metadata": {},
   "source": [
    "Beautiful! Now that our AWS accounts are configured we can move on actually using AWS for our use cases. Our first case is manually spinning up AWS instances from the console. Go ahead and navigate there using our link [here](https://cloudatcal.signin.aws.amazon.com/). Navigate to the EC2 page where we will be spinning up a new EC2 instance. _Reminder that you rregion should be `us-west-1` or Northern California! All of the test cases in this section will route only to Northern California._\n",
    "\n",
    "Create a new `t2.micro` instance with the `Amazon Linux 2 AMI (HVM)` Amazon Machine Image or AMI. (This is free!) When you create this instance, make sure that there are attached tags! The key for your tag should be `student-name` and the value should be your name. Once your instance is launched, _use an existing pair key for your instance!_ The key pair that you should use is called `student_key`. I have already provided `student_key.pem` to you.\n",
    "\n",
    "Now that you've created your EC2 instance, fill in your instance information below and run the grader cell to verify that you instance works!"
   ]
  },
  {
   "cell_type": "code",
   "execution_count": 6,
   "metadata": {},
   "outputs": [],
   "source": [
    "instance_id = \"i-010b03f5fa20bdd83\"\n",
    "tag_value = \"ebaccay\"\n",
    "public_IPv4_address = ..."
   ]
  },
  {
   "cell_type": "code",
   "execution_count": 7,
   "metadata": {},
   "outputs": [
    {
     "data": {
      "text/html": [
       "\n",
       "    \n",
       "    \n",
       "        <p>All tests passed!</p>\n",
       "    \n",
       "    "
      ],
      "text/plain": [
       "\n",
       "    All tests passed!\n",
       "    "
      ]
     },
     "execution_count": 7,
     "metadata": {},
     "output_type": "execute_result"
    }
   ],
   "source": [
    "grader.check(\"q2\")"
   ]
  }
 ],
 "metadata": {
  "kernelspec": {
   "display_name": "Python 3",
   "language": "python",
   "name": "python3"
  },
  "language_info": {
   "codemirror_mode": {
    "name": "ipython",
    "version": 3
   },
   "file_extension": ".py",
   "mimetype": "text/x-python",
   "name": "python",
   "nbconvert_exporter": "python",
   "pygments_lexer": "ipython3",
   "version": "3.7.4"
  }
 },
 "nbformat": 4,
 "nbformat_minor": 2
}
